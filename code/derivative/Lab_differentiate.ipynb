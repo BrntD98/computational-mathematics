{
 "cells": [
  {
   "cell_type": "code",
   "execution_count": 69,
   "id": "2e4f2201-aa89-4af3-858f-e83d31a581ee",
   "metadata": {},
   "outputs": [],
   "source": [
    "import numpy as np\n",
    "from matplotlib import pyplot as plt"
   ]
  },
  {
   "cell_type": "code",
   "execution_count": 5,
   "id": "66de85d9-fcdd-4fc8-9f6a-11ca39efa8d7",
   "metadata": {},
   "outputs": [
    {
     "name": "stdout",
     "output_type": "stream",
     "text": [
      "2\n"
     ]
    }
   ],
   "source": [
    "a = np.array([1,2,3])\n",
    "print(np.argmax(a))"
   ]
  },
  {
   "cell_type": "markdown",
   "id": "fa33c67c-a051-46d8-9f19-894253628302",
   "metadata": {},
   "source": [
    "Обозначим $ x_k = x_0 + k h, k \\in points$. Запишем выражение для производной:\n",
    "\n",
    "$ f'(x_0) = \\frac{1}{h} ( c_0 f(x_0) + \\sum_{k \\in points} c_k f(x_k) ) $. Отсюда получаем систему уравнений:\n",
    "\n",
    "$ \\sum_{k \\in points} k c_k = 1, $\n",
    "$ \\sum_{k \\in points} k^2 c_k = 0, $\n",
    "$ \\sum_{k \\in points} k^3 c_k = 0, $\n",
    "...,\n",
    "$ c_0 = - \\sum_{k \\in points} c_k, $\n",
    "\n",
    "Необходимо найти коэффициенты $ c_k $\n",
    "\n"
   ]
  },
  {
   "cell_type": "code",
   "execution_count": 23,
   "id": "d9bb185a-3c16-429b-a474-8f756c12cc2f",
   "metadata": {},
   "outputs": [
    {
     "name": "stdout",
     "output_type": "stream",
     "text": [
      "C = \n",
      " [[1. 2.]\n",
      " [1. 4.]]\n",
      "b =  [1. 0.]\n",
      "s =  [ 2.  -0.5]\n",
      "c0 =  -1.5\n"
     ]
    }
   ],
   "source": [
    "N = 2\n",
    "points = [1, 2]\n",
    "\n",
    "C = np.zeros((N, N))\n",
    "\n",
    "for i in range(N):\n",
    "    for j, k in enumerate(points):\n",
    "        C[i][j] = k ** (i + 1)\n",
    "\n",
    "print(\"C = \\n\", C)\n",
    "\n",
    "b = np.zeros((N,))\n",
    "b[0] = 1\n",
    "print(\"b = \", b)\n",
    "\n",
    "s = np.linalg.solve(C, b)\n",
    "print(\"s = \", s)\n",
    "\n",
    "c0 = -np.sum(s)\n",
    "print(\"c0 = \", c0)"
   ]
  },
  {
   "cell_type": "code",
   "execution_count": null,
   "id": "00ac4d5a-4188-4559-8372-5833a6443a2e",
   "metadata": {},
   "outputs": [],
   "source": []
  },
  {
   "cell_type": "code",
   "execution_count": 24,
   "id": "c6992279-6a0b-40a8-a0f1-10f85e91413f",
   "metadata": {},
   "outputs": [],
   "source": [
    "def find_coef(N, points):\n",
    "    C = np.zeros((N, N))\n",
    "\n",
    "    for i in range(N):\n",
    "        for j, k in enumerate(points):\n",
    "            C[i][j] = k ** (i + 1)\n",
    "    \n",
    "    b = np.zeros((N,))\n",
    "    b[0] = 1\n",
    "    \n",
    "    s = np.linalg.solve(C, b)\n",
    "    \n",
    "    c0 = -np.sum(s)\n",
    "\n",
    "    return c0, s"
   ]
  },
  {
   "cell_type": "code",
   "execution_count": 25,
   "id": "bf1b6e28-22d9-494e-af1b-a5a57fb8dc95",
   "metadata": {},
   "outputs": [
    {
     "name": "stdout",
     "output_type": "stream",
     "text": [
      "(-0.0, array([-0.5,  0.5]))\n"
     ]
    }
   ],
   "source": [
    "print(find_coef(2, [-1, 1]))"
   ]
  },
  {
   "cell_type": "markdown",
   "id": "96ccd57a-41fb-46ec-ad04-b6f2511310d6",
   "metadata": {},
   "source": [
    "Теперь будем указывать значения точки $ x_0 $ и шага $ h $ "
   ]
  },
  {
   "cell_type": "code",
   "execution_count": 63,
   "id": "cd02f8be-f307-4e0a-9f7f-7a7a8e97fb4e",
   "metadata": {},
   "outputs": [
    {
     "name": "stdout",
     "output_type": "stream",
     "text": [
      "r_points =  [2.0, 3.0, 4.0]\n",
      "exp =  2.718281828459045 [ 7.3890561  20.08553692 54.59815003]\n",
      "coef =  -1.8333333333333335 [ 3.         -1.5         0.33333333]\n",
      "f' =  5.254729570883611\n"
     ]
    }
   ],
   "source": [
    "N = 3\n",
    "points = [1, 2, 3]\n",
    "\n",
    "x0 = 1.0\n",
    "h = 1.0\n",
    "\n",
    "r_points = [x0 + k*h for k in points]\n",
    "print(\"r_points = \", r_points)\n",
    "\n",
    "f_list = np.exp(r_points)\n",
    "f0 = np.exp(x0)\n",
    "print(\"exp = \", f0, f_list)\n",
    "\n",
    "c0, s = find_coef(N, points)\n",
    "print(\"coef = \", c0, s)\n",
    "\n",
    "res = 1/h * (c0*f0 + np.dot(s, f_list))\n",
    "print(\"f' = \", res)\n"
   ]
  },
  {
   "cell_type": "code",
   "execution_count": 62,
   "id": "2dbfa45d-974d-41cb-a930-5a5c360cc0e9",
   "metadata": {},
   "outputs": [],
   "source": [
    "def find_exp_deriv(N, points, x0, h):\n",
    "    r_points = [x0 + k*h for k in points]\n",
    "    \n",
    "    f_list = np.exp(r_points)\n",
    "    f0 = np.exp(x0)\n",
    "    \n",
    "    c0, s = find_coef(N, points)\n",
    "    \n",
    "    res = 1/h * (c0*f0 + np.dot(s, f_list))\n",
    "\n",
    "    d0 = np.exp(x0) #настоящая производная\n",
    "    error = np.abs(d0 - res)\n",
    "\n",
    "    return res, error"
   ]
  },
  {
   "cell_type": "code",
   "execution_count": 108,
   "id": "ecfaba9d-7fe2-400d-981a-3e46abddd159",
   "metadata": {},
   "outputs": [],
   "source": [
    "x0 = 1.0\n",
    "h_list = [1/10 ** k for k in range(1, 10)]\n",
    "result = {}"
   ]
  },
  {
   "cell_type": "code",
   "execution_count": 109,
   "id": "2c258bc3-bbcb-40e9-8612-3b64f69b3569",
   "metadata": {},
   "outputs": [],
   "source": [
    "N = 3\n",
    "points = [1, 2, 3]\n",
    "\n",
    "result[3] = []\n",
    "\n",
    "for h in h_list:\n",
    "    result[3].append(find_exp_deriv(N, points, x0, h)[1])"
   ]
  },
  {
   "cell_type": "code",
   "execution_count": 110,
   "id": "6b8f139b-726c-4d4b-9817-33388acee58d",
   "metadata": {},
   "outputs": [],
   "source": [
    "N = 4\n",
    "points = [1, 2, 3, 4]\n",
    "\n",
    "result[4] = []\n",
    "\n",
    "for h in h_list:\n",
    "    result[4].append(find_exp_deriv(N, points, x0, h)[1])"
   ]
  },
  {
   "cell_type": "code",
   "execution_count": 111,
   "id": "55dd5ab4-0a45-403c-be87-4a6c0d9f1db5",
   "metadata": {},
   "outputs": [],
   "source": [
    "N = 5\n",
    "points = [1, 2, 3, 4, 5]\n",
    "\n",
    "result[5] = []\n",
    "\n",
    "for h in h_list:\n",
    "    result[5].append(find_exp_deriv(N, points, x0, h)[1])"
   ]
  },
  {
   "cell_type": "code",
   "execution_count": 112,
   "id": "efc9b910-9852-4d4e-af06-b2e63b471fb6",
   "metadata": {},
   "outputs": [
    {
     "data": {
      "image/png": "[encoded data removed]",
      "text/plain": [
       "<Figure size 640x480 with 1 Axes>"
      ]
     },
     "metadata": {},
     "output_type": "display_data"
    }
   ],
   "source": [
    "plt.plot(np.log(h_list), np.log(result[3]), label='N=3')\n",
    "plt.plot(np.log(h_list), np.log(result[4]), label='N=4')\n",
    "plt.plot(np.log(h_list), np.log(result[5]), label='N=5')\n",
    "\n",
    "plt.legend(loc='upper left')\n",
    "\n",
    "plt.xlabel(\"log(h)\")\n",
    "plt.ylabel(\"log(error)\")\n",
    "\n",
    "plt.grid(True)\n",
    "\n",
    "plt.show()\n"
   ]
  },
  {
   "cell_type": "code",
   "execution_count": null,
   "id": "0663a447-78e5-4636-871b-b20666c8c071",
   "metadata": {},
   "outputs": [],
   "source": []
  },
  {
   "cell_type": "code",
   "execution_count": null,
   "id": "30826dc6-62d3-41cd-b311-05c1a06d6eba",
   "metadata": {},
   "outputs": [],
   "source": []
  }
 ],
 "metadata": {
  "kernelspec": {
   "display_name": "Python 3 (ipykernel)",
   "language": "python",
   "name": "python3"
  },
  "language_info": {
   "codemirror_mode": {
    "name": "ipython",
    "version": 3
   },
   "file_extension": ".py",
   "mimetype": "text/x-python",
   "name": "python",
   "nbconvert_exporter": "python",
   "pygments_lexer": "ipython3",
   "version": "3.9.7"
  }
 },
 "nbformat": 4,
 "nbformat_minor": 5
}
